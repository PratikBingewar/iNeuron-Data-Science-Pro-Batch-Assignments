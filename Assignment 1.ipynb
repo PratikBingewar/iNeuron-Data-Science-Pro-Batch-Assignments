{
 "cells": [
  {
   "cell_type": "markdown",
   "id": "b65c2fdc-0e7c-4929-ae2a-c5c8efed847e",
   "metadata": {},
   "source": [
    "Declare two variables, `x` and `y`, and assign them integer values. Swap the values of these variables without using any temporary variable.\n"
   ]
  },
  {
   "cell_type": "code",
   "execution_count": 3,
   "id": "f3960d56-a504-4c73-86fb-0b326b0b5ac4",
   "metadata": {},
   "outputs": [],
   "source": [
    "x = 5\n",
    "y = 10\n",
    "x, y = y, x\n"
   ]
  },
  {
   "cell_type": "markdown",
   "id": "1ae99989-632a-4288-a9ad-f78398adf8ed",
   "metadata": {},
   "source": [
    "Create a program that calculates the area of a rectangle. Take the length and\n",
    "width as inputs from the user and store them in variables. Calculate and\n",
    "display the area.\n"
   ]
  },
  {
   "cell_type": "code",
   "execution_count": 4,
   "id": "67a17335-3481-4646-86dd-ff90f80f8b7d",
   "metadata": {},
   "outputs": [
    {
     "name": "stdin",
     "output_type": "stream",
     "text": [
      "Enter the length of the rectangle:  10\n",
      "Enter the width of the rectangle:  15\n"
     ]
    },
    {
     "name": "stdout",
     "output_type": "stream",
     "text": [
      "The area of the rectangle is: 150.0\n"
     ]
    }
   ],
   "source": [
    "length = float(input(\"Enter the length of the rectangle: \"))\n",
    "width = float(input(\"Enter the width of the rectangle: \"))\n",
    "area = length * width\n",
    "print(\"The area of the rectangle is:\", area)\n"
   ]
  },
  {
   "cell_type": "markdown",
   "id": "bc6751af-ff4b-413a-b06a-dbd5c8c0258f",
   "metadata": {},
   "source": [
    "Write a Python program that converts temperatures from Celsius to\n",
    "Fahrenheit. Take the temperature in Celsius as input, store it in a variable,\n",
    "convert it to Fahrenheit, and display the result."
   ]
  },
  {
   "cell_type": "code",
   "execution_count": 5,
   "id": "22ac383b-3a75-4114-bb69-b4c2ef0d8582",
   "metadata": {},
   "outputs": [
    {
     "name": "stdin",
     "output_type": "stream",
     "text": [
      "Enter temperature in Celsius:  37\n"
     ]
    },
    {
     "name": "stdout",
     "output_type": "stream",
     "text": [
      "Temperature in Fahrenheit: 98.6\n"
     ]
    }
   ],
   "source": [
    "celsius = float(input(\"Enter temperature in Celsius: \"))\n",
    "fahrenheit = (celsius * 9/5) + 32\n",
    "print(\"Temperature in Fahrenheit:\", fahrenheit)\n"
   ]
  },
  {
   "cell_type": "markdown",
   "id": "66313e2e-7694-4cfb-9e9c-74887a35ce7d",
   "metadata": {},
   "source": [
    "Write a Python program that takes a string as input and prints the length of\n",
    "the string."
   ]
  },
  {
   "cell_type": "code",
   "execution_count": 6,
   "id": "cdf04e26-ead5-44d0-a15e-ff17ad234c68",
   "metadata": {},
   "outputs": [
    {
     "name": "stdin",
     "output_type": "stream",
     "text": [
      "Enter a string:  Pratik\n"
     ]
    },
    {
     "name": "stdout",
     "output_type": "stream",
     "text": [
      "Length of the string is: 6\n"
     ]
    }
   ],
   "source": [
    "text = input(\"Enter a string: \")\n",
    "length = len(text)\n",
    "print(\"Length of the string is:\", length)\n"
   ]
  },
  {
   "cell_type": "markdown",
   "id": "d164ab95-9c6f-491f-94cf-e16e37b506c6",
   "metadata": {},
   "source": [
    "Create a program that takes a sentence from the user and counts the number\n",
    "of vowels (a, e, i, o, u) in the string.\n"
   ]
  },
  {
   "cell_type": "code",
   "execution_count": 7,
   "id": "cefc4224-fdaa-4741-8621-c46a004fe5dd",
   "metadata": {},
   "outputs": [
    {
     "name": "stdin",
     "output_type": "stream",
     "text": [
      "Enter a sentence:  Hello World\n"
     ]
    },
    {
     "name": "stdout",
     "output_type": "stream",
     "text": [
      "Number of vowels in the sentence: 3\n"
     ]
    }
   ],
   "source": [
    "sentence = input(\"Enter a sentence: \")\n",
    "vowels = \"aeiouAEIOU\"\n",
    "count = sum(1 for char in sentence if char in vowels)\n",
    "print(\"Number of vowels in the sentence:\", count)\n"
   ]
  },
  {
   "cell_type": "markdown",
   "id": "45ab511b-05f5-47d8-8388-7a541d17440b",
   "metadata": {},
   "source": [
    "Given a string, reverse the order of characters using string slicing and print\n",
    "the reversed string."
   ]
  },
  {
   "cell_type": "code",
   "execution_count": 10,
   "id": "2e74a944-507c-4fff-9f15-e1e98e7d3888",
   "metadata": {},
   "outputs": [
    {
     "name": "stdin",
     "output_type": "stream",
     "text": [
      "Enter a string:  Hello World\n"
     ]
    },
    {
     "name": "stdout",
     "output_type": "stream",
     "text": [
      "Reversed string: dlroW olleH\n"
     ]
    }
   ],
   "source": [
    "text = input(\"Enter a string: \")\n",
    "reversed_text = text[::-1]\n",
    "print(\"Reversed string:\", reversed_text)\n"
   ]
  },
  {
   "cell_type": "markdown",
   "id": "3c546258-3007-4137-8862-ac470eff9cad",
   "metadata": {
    "tags": []
   },
   "source": [
    "Write a program that takes a string as input and checks if it is a palindrome\n",
    "(reads the same forwards and backwards)."
   ]
  },
  {
   "cell_type": "code",
   "execution_count": 8,
   "id": "f1ce0350-fa21-44c3-98dc-3256c92163b6",
   "metadata": {},
   "outputs": [
    {
     "name": "stdin",
     "output_type": "stream",
     "text": [
      "Enter a string:  Pratik Bingewar\n"
     ]
    },
    {
     "name": "stdout",
     "output_type": "stream",
     "text": [
      "It is not a palindrome.\n"
     ]
    }
   ],
   "source": [
    "text = input(\"Enter a string: \")\n",
    "if text == text[::-1]:\n",
    "    print(\"It is a palindrome.\")\n",
    "else:\n",
    "    print(\"It is not a palindrome.\")\n"
   ]
  },
  {
   "cell_type": "markdown",
   "id": "34eeb464-959f-4389-834f-53a6b42bda9e",
   "metadata": {
    "tags": []
   },
   "source": [
    "Create a program that takes a string as input and removes all the spaces from\n",
    "it. Print the modified string without spaces."
   ]
  },
  {
   "cell_type": "code",
   "execution_count": 9,
   "id": "e52a8732-49a8-4e4b-8bea-7c117cf5ac62",
   "metadata": {},
   "outputs": [
    {
     "name": "stdin",
     "output_type": "stream",
     "text": [
      "Enter a string with spaces:  fdwafa sgsegseg srgsgseg \n"
     ]
    },
    {
     "name": "stdout",
     "output_type": "stream",
     "text": [
      "String without spaces: fdwafasgsegsegsrgsgseg\n"
     ]
    }
   ],
   "source": [
    "text = input(\"Enter a string with spaces: \")\n",
    "text_without_spaces = text.replace(\" \", \"\")\n",
    "print(\"String without spaces:\", text_without_spaces)\n",
    "\n"
   ]
  },
  {
   "cell_type": "code",
   "execution_count": null,
   "id": "2b035bcf-4b29-4a0c-b275-a62e434c5b27",
   "metadata": {},
   "outputs": [],
   "source": []
  }
 ],
 "metadata": {
  "kernelspec": {
   "display_name": "Python 3 (ipykernel)",
   "language": "python",
   "name": "python3"
  },
  "language_info": {
   "codemirror_mode": {
    "name": "ipython",
    "version": 3
   },
   "file_extension": ".py",
   "mimetype": "text/x-python",
   "name": "python",
   "nbconvert_exporter": "python",
   "pygments_lexer": "ipython3",
   "version": "3.10.8"
  }
 },
 "nbformat": 4,
 "nbformat_minor": 5
}
