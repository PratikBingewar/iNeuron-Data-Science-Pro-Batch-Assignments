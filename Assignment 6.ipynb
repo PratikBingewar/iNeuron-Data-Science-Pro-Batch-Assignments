{
 "cells": [
  {
   "cell_type": "markdown",
   "id": "9fac7a1e-6c86-4406-937f-413dc96391fa",
   "metadata": {},
   "source": [
    "Problem 1: Bank Account Create a class representing a bank account with attributes like account number, account holder name, and balance. Implement methods to deposit and withdraw money from the account.\n",
    "\n",
    "Problem 2: Employee Management Create a class representing an employee with attributes like employee ID, name, and salary. Implement methods to calculate the yearly bonus and display employee details.\n",
    "\n",
    "Problem 3: Vehicle Rental Create a class representing a vehicle rental system. Implement methods to rent a vehicle, return a vehicle, and display available vehicles.\n",
    "\n",
    "Problem 4: Library Catalog Create classes representing a library and a book. Implement methods to add books to the library, borrow books, and display available books.\n",
    "\n",
    "Problem 5: Product Inventory Create classes representing a product and an inventory system. Implement methods to add products to the inventory, update product quantity, and display available products.\n",
    "\n",
    "Problem 6: Shape Calculation Create a class representing a shape with attributes like length, width, and height. Implement methods to calculate the area and perimeter of the shape.\n",
    "\n",
    "Problem 7: Student Management Create a class representing a student with attributes like student ID, name, and grades. Implement methods to calculate the average grade and display student details.\n",
    "\n",
    "Problem 8: Email Management Create a class representing an email with attributes like sender, recipient, and subject. Implement methods to send an email and display email details.\n",
    "\n",
    "Problem 9: Social Media Profile Create a class representing a social media profile with attributes like username and posts. Implement methods to add posts, display posts, and search for posts by keyword.\n",
    "\n",
    "Problem 10: ToDo List Create a class representing a ToDo list with attributes like tasks and due dates. Implement methods to add tasks, mark tasks as completed, and display pending tasks."
   ]
  },
  {
   "cell_type": "code",
   "execution_count": 20,
   "id": "2120ee95-4865-4220-a058-daf50acb2311",
   "metadata": {},
   "outputs": [],
   "source": [
    "#1 Bank Account Create a class representing a bank account with attributes like account number, account holder name, and balance. Implement methods to deposit and withdraw money from the account.\n",
    "\n",
    "class BankAccount:\n",
    "    def __init__(self, account_number, account_holder_name, balance):\n",
    "        self.account_number = account_number\n",
    "        self.account_holder_name = account_holder_name\n",
    "        self.balance = balance\n",
    "\n",
    "    def deposit(self, amount):\n",
    "        self.balance += amount\n",
    "\n",
    "    def withdraw(self, amount):\n",
    "        if self.balance >= amount:\n",
    "            self.balance -= amount\n",
    "        else:\n",
    "            print(\"Insufficient balance\")\n",
    "\n",
    "\n",
    "\n",
    "\n",
    "\n"
   ]
  },
  {
   "cell_type": "code",
   "execution_count": 21,
   "id": "615552be-1c36-4e77-9dc1-ddaa7a929c30",
   "metadata": {},
   "outputs": [],
   "source": [
    "account = BankAccount(\"12345\", \"John Doe\", 1000)\n",
    "account.deposit(500)\n",
    "account.withdraw(200)"
   ]
  },
  {
   "cell_type": "code",
   "execution_count": 22,
   "id": "ad48740c-5bb0-4934-b346-181ef7cb5cf7",
   "metadata": {},
   "outputs": [
    {
     "data": {
      "text/plain": [
       "1300"
      ]
     },
     "execution_count": 22,
     "metadata": {},
     "output_type": "execute_result"
    }
   ],
   "source": [
    "account.balance"
   ]
  },
  {
   "cell_type": "code",
   "execution_count": 23,
   "id": "24b5eaf8-f934-41bf-b574-63e9c2c6ef40",
   "metadata": {},
   "outputs": [
    {
     "name": "stdout",
     "output_type": "stream",
     "text": [
      "Employee ID: 1\n",
      "Name: Alice\n",
      "Salary: 50000\n"
     ]
    }
   ],
   "source": [
    "class Employee:\n",
    "    def __init__(self, employee_id, name, salary):\n",
    "        self.employee_id = employee_id\n",
    "        self.name = name\n",
    "        self.salary = salary\n",
    "\n",
    "    def calculate_yearly_bonus(self):\n",
    "        return 0.1 * self.salary\n",
    "\n",
    "    def display_employee_details(self):\n",
    "        print(f\"Employee ID: {self.employee_id}\")\n",
    "        print(f\"Name: {self.name}\")\n",
    "        print(f\"Salary: {self.salary}\")\n",
    "\n",
    "# Example usage:\n",
    "employee = Employee(1, \"Alice\", 50000)\n",
    "bonus = employee.calculate_yearly_bonus()\n",
    "employee.display_employee_details()\n"
   ]
  },
  {
   "cell_type": "code",
   "execution_count": 25,
   "id": "02117893-c293-4995-9ff8-612c12a4b4fe",
   "metadata": {},
   "outputs": [
    {
     "name": "stdout",
     "output_type": "stream",
     "text": [
      "Car\n",
      "Bike\n"
     ]
    }
   ],
   "source": [
    "class VehicleRental:\n",
    "    def __init__(self):\n",
    "        self.available_vehicles = []\n",
    "\n",
    "    def rent_vehicle(self, vehicle):\n",
    "        self.available_vehicles.remove(vehicle)\n",
    "\n",
    "    def return_vehicle(self, vehicle):\n",
    "        self.available_vehicles.append(vehicle)\n",
    "\n",
    "    def display_available_vehicles(self):\n",
    "        for vehicle in self.available_vehicles:\n",
    "            print(vehicle)\n",
    "\n",
    "\n",
    "class Vehicle:\n",
    "    def __init__(self, name):\n",
    "        self.name = name\n",
    "\n",
    "    def __str__(self):\n",
    "        return self.name\n",
    "\n",
    "rental_system = VehicleRental()\n",
    "vehicle1 = Vehicle(\"Car\")\n",
    "vehicle2 = Vehicle(\"Bike\")\n",
    "rental_system.available_vehicles = [vehicle1, vehicle2]\n",
    "rental_system.display_available_vehicles()\n"
   ]
  },
  {
   "cell_type": "code",
   "execution_count": 27,
   "id": "ebaa5d37-8335-41ee-a5df-a53f0be78905",
   "metadata": {},
   "outputs": [
    {
     "name": "stdout",
     "output_type": "stream",
     "text": [
      "Python Programming by John Doe\n",
      "Data Science Handbook by Alice Smith\n"
     ]
    }
   ],
   "source": [
    "class Library:\n",
    "    def __init__(self):\n",
    "        self.books = []\n",
    "\n",
    "    def add_book(self, book):\n",
    "        self.books.append(book)\n",
    "\n",
    "    def borrow_book(self, book):\n",
    "        if book in self.books:\n",
    "            self.books.remove(book)\n",
    "        else:\n",
    "            print(\"Book not available\")\n",
    "\n",
    "    def display_available_books(self):\n",
    "        for book in self.books:\n",
    "            print(book)\n",
    "\n",
    "            \n",
    "class Book:\n",
    "    def __init__(self, title, author):\n",
    "        self.title = title\n",
    "        self.author = author\n",
    "\n",
    "    def __str__(self):\n",
    "        return f\"{self.title} by {self.author}\"\n",
    "\n",
    "library = Library()\n",
    "book1 = Book(\"Python Programming\", \"John Doe\")\n",
    "book2 = Book(\"Data Science Handbook\", \"Alice Smith\")\n",
    "library.add_book(book1)\n",
    "library.add_book(book2)\n",
    "library.display_available_books()\n"
   ]
  },
  {
   "cell_type": "code",
   "execution_count": 28,
   "id": "d915ee89-8a3d-429d-9750-f997e9188e1c",
   "metadata": {},
   "outputs": [
    {
     "name": "stdout",
     "output_type": "stream",
     "text": [
      "Product ID: 1\n",
      "Name: Laptop\n",
      "Price: 1000\n",
      "Quantity: 5\n",
      "Product ID: 2\n",
      "Name: Phone\n",
      "Price: 500\n",
      "Quantity: 10\n"
     ]
    }
   ],
   "source": [
    "class Product:\n",
    "    def __init__(self, product_id, name, price, quantity):\n",
    "        self.product_id = product_id\n",
    "        self.name = name\n",
    "        self.price = price\n",
    "        self.quantity = quantity\n",
    "\n",
    "class Inventory:\n",
    "    def __init__(self):\n",
    "        self.products = []\n",
    "\n",
    "    def add_product(self, product):\n",
    "        self.products.append(product)\n",
    "\n",
    "    def update_product_quantity(self, product_id, new_quantity):\n",
    "        for product in self.products:\n",
    "            if product.product_id == product_id:\n",
    "                product.quantity = new_quantity\n",
    "                break\n",
    "\n",
    "    def display_available_products(self):\n",
    "        for product in self.products:\n",
    "            print(f\"Product ID: {product.product_id}\")\n",
    "            print(f\"Name: {product.name}\")\n",
    "            print(f\"Price: {product.price}\")\n",
    "            print(f\"Quantity: {product.quantity}\")\n",
    "\n",
    "# Example usage:\n",
    "inventory = Inventory()\n",
    "product1 = Product(1, \"Laptop\", 1000, 5)\n",
    "product2 = Product(2, \"Phone\", 500, 10)\n",
    "inventory.add_product(product1)\n",
    "inventory.add_product(product2)\n",
    "inventory.display_available_products()\n"
   ]
  },
  {
   "cell_type": "code",
   "execution_count": 31,
   "id": "7f659716-a1c7-42b0-b44a-77a031208e88",
   "metadata": {},
   "outputs": [
    {
     "name": "stdout",
     "output_type": "stream",
     "text": [
      "Rectangle Area: 20\n",
      "Rectangle Perimeter: 18\n",
      "Circle Area: 153.86\n",
      "Circle Perimeter: 43.96\n"
     ]
    }
   ],
   "source": [
    "class Shape:\n",
    "    def __init__(self, length, width, radius):\n",
    "        self.length = length\n",
    "        self.width = width\n",
    "        self.radius = radius\n",
    "\n",
    "    def calculate_area(self):\n",
    "        pass\n",
    "\n",
    "    def calculate_perimeter(self):\n",
    "        pass\n",
    "\n",
    "class Rectangle(Shape):\n",
    "    def calculate_area(self):\n",
    "        return self.length * self.width\n",
    "\n",
    "    def calculate_perimeter(self):\n",
    "        return 2 * (self.length + self.width)\n",
    "\n",
    "class Circle(Shape):\n",
    "    def calculate_area(self):\n",
    "        return 3.14 * self.radius * self.radius\n",
    "\n",
    "    def calculate_perimeter(self):\n",
    "        return 2 * 3.14 * self.radius\n",
    "\n",
    "\n",
    "rectangle = Rectangle(5, 4, 0)\n",
    "circle = Circle(0, 0, 7)\n",
    "print(\"Rectangle Area:\", rectangle.calculate_area())\n",
    "print(\"Rectangle Perimeter:\", rectangle.calculate_perimeter())\n",
    "print(\"Circle Area:\", circle.calculate_area())\n",
    "print(\"Circle Perimeter:\", circle.calculate_perimeter())\n"
   ]
  },
  {
   "cell_type": "code",
   "execution_count": 37,
   "id": "0f2cc2a7-1aed-4dec-a381-b884e72a4ba0",
   "metadata": {},
   "outputs": [
    {
     "name": "stdout",
     "output_type": "stream",
     "text": [
      "Student ID: 1\n",
      "Name: Alice\n",
      "Grades: 90, 85, 78, 92\n"
     ]
    }
   ],
   "source": [
    "class Student:\n",
    "    def __init__(self, student_id, name, grades):\n",
    "        self.student_id = student_id\n",
    "        self.name = name\n",
    "        self.grades = grades\n",
    "\n",
    "    def calculate_average_grade(self):\n",
    "        return sum(self.grades) / len(self.grades)\n",
    "\n",
    "    def display_student_details(self):\n",
    "        print(f\"Student ID: {self.student_id}\")\n",
    "        print(f\"Name: {self.name}\")\n",
    "        print(f\"Grades: {', '.join(map(str, self.grades))}\")\n",
    "\n",
    "# Example usage:\n",
    "student = Student(1, \"Alice\", [90, 85, 78, 92])\n",
    "average_grade = student.calculate_average_grade()\n",
    "student.display_student_details()\n"
   ]
  },
  {
   "cell_type": "code",
   "execution_count": 38,
   "id": "2228b49c-e6d5-4d5e-a8c7-c51448fe03b5",
   "metadata": {},
   "outputs": [
    {
     "name": "stdout",
     "output_type": "stream",
     "text": [
      "Email sent from sender@example.com to recipient@example.com with subject: Hello\n",
      "Sender: sender@example.com\n",
      "Recipient: recipient@example.com\n",
      "Subject: Hello\n"
     ]
    }
   ],
   "source": [
    "class Email:\n",
    "    def __init__(self, sender, recipient, subject):\n",
    "        self.sender = sender\n",
    "        self.recipient = recipient\n",
    "        self.subject = subject\n",
    "\n",
    "    def send_email(self):\n",
    "        print(f\"Email sent from {self.sender} to {self.recipient} with subject: {self.subject}\")\n",
    "\n",
    "    def display_email_details(self):\n",
    "        print(f\"Sender: {self.sender}\")\n",
    "        print(f\"Recipient: {self.recipient}\")\n",
    "        print(f\"Subject: {self.subject}\")\n",
    "\n",
    "# Example usage:\n",
    "email = Email(\"sender@example.com\", \"recipient@example.com\", \"Hello\")\n",
    "email.send_email()\n",
    "email.display_email_details()\n"
   ]
  },
  {
   "cell_type": "code",
   "execution_count": 45,
   "id": "9c1db8b6-a209-4219-a9fc-5d2dcaf65cd8",
   "metadata": {},
   "outputs": [
    {
     "name": "stdout",
     "output_type": "stream",
     "text": [
      "Hello, world!\n",
      "I love programming language.\n",
      "Python is my favorite language.\n",
      "Matching Posts:\n",
      "I love programming language.\n",
      "Python is my favorite language.\n"
     ]
    }
   ],
   "source": [
    "class SocialMediaProfile:\n",
    "    def __init__(self, username):\n",
    "        self.username = username\n",
    "        self.posts = []\n",
    "\n",
    "    def add_post(self, post):\n",
    "        self.posts.append(post)\n",
    "\n",
    "    def display_posts(self):\n",
    "        for post in self.posts:\n",
    "            print(post)\n",
    "\n",
    "    def search_posts(self, keyword):\n",
    "        matching_posts = []\n",
    "        for post in self.posts:\n",
    "            if keyword in post:\n",
    "                 matching_posts.append(post)\n",
    "        return matching_posts\n",
    "\n",
    "# Example usage:\n",
    "profile = SocialMediaProfile(\"user123\")\n",
    "profile.add_post(\"Hello, world!\")\n",
    "profile.add_post(\"I love programming language.\")\n",
    "profile.add_post(\"Python is my favorite language.\")\n",
    "profile.display_posts()\n",
    "matching_posts = profile.search_posts(\"language\")\n",
    "print(\"Matching Posts:\")\n",
    "for post in matching_posts:\n",
    "    print(post)\n"
   ]
  },
  {
   "cell_type": "code",
   "execution_count": 48,
   "id": "4702c035-3542-44f5-8785-ae3594f35711",
   "metadata": {},
   "outputs": [
    {
     "name": "stdout",
     "output_type": "stream",
     "text": [
      "Pending Tasks:\n",
      "Task: Finish report, Due Date: 2023-10-20\n",
      "completed Tasks:\n",
      "Task: Buy groceries, Due Date: 2023-10-15\n"
     ]
    }
   ],
   "source": [
    "class ToDoList:\n",
    "    def __init__(self):\n",
    "        self.tasks = []\n",
    "\n",
    "    def add_task(self, task, due_date):\n",
    "        self.tasks.append({\"task\": task, \"due_date\": due_date, \"completed\": False})\n",
    "\n",
    "    def mark_task_as_completed(self, task):\n",
    "        for t in self.tasks:\n",
    "            if t[\"task\"] == task:\n",
    "                t[\"completed\"] = True\n",
    "\n",
    "    def display_pending_tasks(self):\n",
    "        print(\"Pending Tasks:\")\n",
    "        for t in self.tasks:\n",
    "            if not t[\"completed\"]:\n",
    "                print(f\"Task: {t['task']}, Due Date: {t['due_date']}\")\n",
    "    \n",
    "    def display_completed_tasks(self):\n",
    "        print(\"completed Tasks:\")\n",
    "        for t in self.tasks:\n",
    "            if t[\"completed\"]:\n",
    "                print(f\"Task: {t['task']}, Due Date: {t['due_date']}\")\n",
    "\n",
    "# Example usage:\n",
    "todo_list = ToDoList()\n",
    "todo_list.add_task(\"Buy groceries\", \"2023-10-15\")\n",
    "todo_list.add_task(\"Finish report\", \"2023-10-20\")\n",
    "todo_list.mark_task_as_completed(\"Buy groceries\")\n",
    "todo_list.display_pending_tasks()\n",
    "todo_list.display_completed_tasks()\n"
   ]
  },
  {
   "cell_type": "code",
   "execution_count": null,
   "id": "5f443dd3-55d5-437d-ba56-dc6dbd063d7a",
   "metadata": {},
   "outputs": [],
   "source": []
  }
 ],
 "metadata": {
  "kernelspec": {
   "display_name": "Python 3 (ipykernel)",
   "language": "python",
   "name": "python3"
  },
  "language_info": {
   "codemirror_mode": {
    "name": "ipython",
    "version": 3
   },
   "file_extension": ".py",
   "mimetype": "text/x-python",
   "name": "python",
   "nbconvert_exporter": "python",
   "pygments_lexer": "ipython3",
   "version": "3.10.8"
  }
 },
 "nbformat": 4,
 "nbformat_minor": 5
}
