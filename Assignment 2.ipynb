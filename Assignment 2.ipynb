{
 "cells": [
  {
   "cell_type": "markdown",
   "id": "bf438c7f-d825-49df-b078-e00b968cffbe",
   "metadata": {},
   "source": [
    "String Manipulation in Python:"
   ]
  },
  {
   "cell_type": "code",
   "execution_count": 3,
   "id": "96394dc7-30ca-4e63-84cc-b957d87e6fdf",
   "metadata": {},
   "outputs": [
    {
     "name": "stdout",
     "output_type": "stream",
     "text": [
      "olleh\n"
     ]
    }
   ],
   "source": [
    "#Reverse a string.\n",
    "\n",
    "string = \"hello\"\n",
    "reversed_string = string[::-1]\n",
    "print(reversed_string)"
   ]
  },
  {
   "cell_type": "code",
   "execution_count": 4,
   "id": "bf44d9f3-574e-4813-834c-b734e180253c",
   "metadata": {},
   "outputs": [
    {
     "name": "stdout",
     "output_type": "stream",
     "text": [
      "True\n"
     ]
    }
   ],
   "source": [
    "# Check if a string is a palindrome.\n",
    "\n",
    "def is_palindrome(s):\n",
    "    s = s.lower()\n",
    "    return s == s[::-1]\n",
    "\n",
    "result = is_palindrome(\"racecar\")\n",
    "print(result)"
   ]
  },
  {
   "cell_type": "code",
   "execution_count": 7,
   "id": "af49b7ff-3121-4930-8986-8c978a5d59b0",
   "metadata": {},
   "outputs": [
    {
     "name": "stdout",
     "output_type": "stream",
     "text": [
      "HELLO\n"
     ]
    }
   ],
   "source": [
    "# Convert a string to uppercase.\n",
    "\n",
    "string = \"hello\"\n",
    "uppercase_string = string.upper()\n",
    "print(uppercase_string)"
   ]
  },
  {
   "cell_type": "code",
   "execution_count": 8,
   "id": "e8169d46-275b-44bc-8e9b-b34f91756a04",
   "metadata": {},
   "outputs": [
    {
     "name": "stdout",
     "output_type": "stream",
     "text": [
      "hello\n"
     ]
    }
   ],
   "source": [
    "# Convert a string to lowercase.\n",
    "\n",
    "string = \"Hello\"\n",
    "lowercase_string = string.lower()\n",
    "print(lowercase_string)"
   ]
  },
  {
   "cell_type": "code",
   "execution_count": 9,
   "id": "6bf5ee10-3b13-4714-acc1-95696e9d7467",
   "metadata": {},
   "outputs": [
    {
     "name": "stdout",
     "output_type": "stream",
     "text": [
      "2\n"
     ]
    }
   ],
   "source": [
    "# Count the number of vowels in a string.\n",
    "\n",
    "string = \"hello\"\n",
    "vowels = \"aeiouAEIOU\"\n",
    "count = sum(1 for char in string if char in vowels)\n",
    "print(count)"
   ]
  },
  {
   "cell_type": "code",
   "execution_count": 10,
   "id": "dc01fc41-fa29-4e68-8dec-6f570702a2a8",
   "metadata": {},
   "outputs": [
    {
     "name": "stdout",
     "output_type": "stream",
     "text": [
      "3\n"
     ]
    }
   ],
   "source": [
    "# Count the number of consonants in a string.\n",
    "\n",
    "string = \"hello\"\n",
    "consonants = \"bcdfghjklmnpqrstvwxyzBCDFGHJKLMNPQRSTVWXYZ\"\n",
    "count = sum(1 for char in string if char in consonants)\n",
    "print(count)"
   ]
  },
  {
   "cell_type": "code",
   "execution_count": 11,
   "id": "af703393-18d5-44e2-aba4-f5c67dc27de4",
   "metadata": {},
   "outputs": [
    {
     "name": "stdout",
     "output_type": "stream",
     "text": [
      "helloworld\n"
     ]
    }
   ],
   "source": [
    "# Remove all whitespaces from a string.\n",
    "\n",
    "string = \"hello world\"\n",
    "no_whitespace_string = string.replace(\" \", \"\")\n",
    "print(no_whitespace_string)"
   ]
  },
  {
   "cell_type": "code",
   "execution_count": 13,
   "id": "b541cca6-4443-4abc-acaf-9a0ca8a68ff8",
   "metadata": {},
   "outputs": [
    {
     "name": "stdout",
     "output_type": "stream",
     "text": [
      "5\n"
     ]
    }
   ],
   "source": [
    "# Find the length of a string without using the len() function.\n",
    "\n",
    "string = \"hello\"\n",
    "length = sum(1 for _ in string)\n",
    "print(length)"
   ]
  },
  {
   "cell_type": "code",
   "execution_count": 14,
   "id": "7998f5a5-5e09-43ef-9dd3-f2b80f986321",
   "metadata": {},
   "outputs": [
    {
     "name": "stdout",
     "output_type": "stream",
     "text": [
      "True\n"
     ]
    }
   ],
   "source": [
    "#Check if a string contains a specific word.\n",
    "string = \"hello world\"\n",
    "word_to_find = \"world\"\n",
    "contains_word = word_to_find in string\n",
    "print(contains_word)"
   ]
  },
  {
   "cell_type": "code",
   "execution_count": 16,
   "id": "dd7c2d94-6f88-4d27-8793-999b7ee51350",
   "metadata": {},
   "outputs": [
    {
     "name": "stdout",
     "output_type": "stream",
     "text": [
      "hello Python\n"
     ]
    }
   ],
   "source": [
    "# Replace a word in a string with another word.\n",
    "\n",
    "string = \"hello world\"\n",
    "old_word = \"world\"\n",
    "new_word = \"Python\"\n",
    "updated_string = string.replace(old_word, new_word)\n",
    "print(updated_string)"
   ]
  },
  {
   "cell_type": "code",
   "execution_count": 17,
   "id": "daf60572-4a97-42fc-b5b6-0d997376bf3a",
   "metadata": {},
   "outputs": [
    {
     "name": "stdout",
     "output_type": "stream",
     "text": [
      "2\n"
     ]
    }
   ],
   "source": [
    "#Count the occurrences of a word in a string.\n",
    "\n",
    "string = \"hello world, world is beautiful world\"\n",
    "word_to_count = \"world\"\n",
    "count = string.split().count(word_to_count)\n",
    "print(count)\n"
   ]
  },
  {
   "cell_type": "code",
   "execution_count": 18,
   "id": "441c0b39-4205-405c-9a03-e76d379b8f80",
   "metadata": {},
   "outputs": [
    {
     "name": "stdout",
     "output_type": "stream",
     "text": [
      "6\n"
     ]
    }
   ],
   "source": [
    "# Find the first occurrence of a word in a string.\n",
    "\n",
    "string = \"hello world, world is beautiful world\"\n",
    "word_to_find = \"world\"\n",
    "first_occurrence = string.find(word_to_find)\n",
    "print(first_occurrence)"
   ]
  },
  {
   "cell_type": "code",
   "execution_count": 20,
   "id": "2a4c1fb1-911a-4097-90e0-70d069ceec17",
   "metadata": {},
   "outputs": [
    {
     "name": "stdout",
     "output_type": "stream",
     "text": [
      "32\n"
     ]
    }
   ],
   "source": [
    "#Find the last occurrence of a word in a string.\n",
    "\n",
    "string = \"hello world, world is beautiful world\"\n",
    "word_to_find = \"world\"\n",
    "last_occurrence = string.rfind(word_to_find)\n",
    "print(last_occurrence)"
   ]
  },
  {
   "cell_type": "code",
   "execution_count": 21,
   "id": "d3bd46bb-860d-458c-9ef0-af7080eda6f7",
   "metadata": {},
   "outputs": [
    {
     "name": "stdout",
     "output_type": "stream",
     "text": [
      "['hello', 'world']\n"
     ]
    }
   ],
   "source": [
    "# Split a string into a list of words.\n",
    "\n",
    "string = \"hello world\"\n",
    "word_list = string.split()\n",
    "print(word_list)"
   ]
  },
  {
   "cell_type": "code",
   "execution_count": 22,
   "id": "f39dc55f-a60d-455a-86db-2afbd089b158",
   "metadata": {},
   "outputs": [
    {
     "name": "stdout",
     "output_type": "stream",
     "text": [
      "hello world\n"
     ]
    }
   ],
   "source": [
    "# Join a list of words into a string.\n",
    "\n",
    "word_list = [\"hello\", \"world\"]\n",
    "string = \" \".join(word_list)\n",
    "print(string)"
   ]
  },
  {
   "cell_type": "code",
   "execution_count": 23,
   "id": "df638370-03f5-45dc-9991-104a7c70c305",
   "metadata": {},
   "outputs": [
    {
     "name": "stdout",
     "output_type": "stream",
     "text": [
      "hello_world\n"
     ]
    }
   ],
   "source": [
    "# Convert a string where words are separated by spaces to one where words are separated by underscores.\n",
    "\n",
    "string = \"hello world\"\n",
    "underscore_string = string.replace(\" \", \"_\")\n",
    "print(underscore_string)"
   ]
  },
  {
   "cell_type": "code",
   "execution_count": 24,
   "id": "8ad62dc3-0205-4632-a535-0b4df8e561c3",
   "metadata": {},
   "outputs": [
    {
     "name": "stdout",
     "output_type": "stream",
     "text": [
      "True\n"
     ]
    }
   ],
   "source": [
    "# Check if a string starts with a specific word or phrase.\n",
    "\n",
    "string = \"hello world\"\n",
    "word_to_check = \"hello\"\n",
    "starts_with_word = string.startswith(word_to_check)\n",
    "print(starts_with_word)"
   ]
  },
  {
   "cell_type": "code",
   "execution_count": 25,
   "id": "d0ff3943-af0b-4af3-830f-8b33a1dbb512",
   "metadata": {},
   "outputs": [
    {
     "name": "stdout",
     "output_type": "stream",
     "text": [
      "True\n"
     ]
    }
   ],
   "source": [
    "# Check if a string ends with a specific word or phrase.\n",
    "\n",
    "string = \"hello world\"\n",
    "word_to_check = \"world\"\n",
    "ends_with_word = string.endswith(word_to_check)\n",
    "print(ends_with_word)"
   ]
  },
  {
   "cell_type": "code",
   "execution_count": 27,
   "id": "e2744527-8e3d-4834-bb4a-c3de00143e8b",
   "metadata": {},
   "outputs": [
    {
     "name": "stdout",
     "output_type": "stream",
     "text": [
      "Hello World\n"
     ]
    }
   ],
   "source": [
    "# Convert a string to title case (e.g., \"hello world\" to \"Hello World\").\n",
    "\n",
    "string = \"hello world\"\n",
    "title_case_string = string.title()\n",
    "print(title_case_string)"
   ]
  },
  {
   "cell_type": "code",
   "execution_count": 29,
   "id": "0086e48e-1a79-439d-b008-e31d196dc7bb",
   "metadata": {},
   "outputs": [
    {
     "name": "stdout",
     "output_type": "stream",
     "text": [
      "beautiful\n"
     ]
    }
   ],
   "source": [
    "# Find the longest word in a string.\n",
    "\n",
    "string = \"hello beautiful world\"\n",
    "longest_word = max(string.split(), key=len)\n",
    "print(longest_word)"
   ]
  },
  {
   "cell_type": "code",
   "execution_count": 31,
   "id": "46805034-e80e-4294-8f2b-4850ced15879",
   "metadata": {},
   "outputs": [
    {
     "name": "stdout",
     "output_type": "stream",
     "text": [
      "hello\n"
     ]
    }
   ],
   "source": [
    "# Find the shortest word in a string.\n",
    "\n",
    "string = \"hello beautiful world\"\n",
    "shortest_word = min(string.split(), key=len)\n",
    "print(shortest_word)"
   ]
  },
  {
   "cell_type": "code",
   "execution_count": 32,
   "id": "6606c830-efb6-420c-bfd7-2d8aefd311fd",
   "metadata": {},
   "outputs": [
    {
     "name": "stdout",
     "output_type": "stream",
     "text": [
      "world beautiful hello\n"
     ]
    }
   ],
   "source": [
    "# Reverse the order of words in a string.\n",
    "\n",
    "string = \"hello beautiful world\"\n",
    "reversed_string = \" \".join(reversed(string.split()))\n",
    "print(reversed_string)"
   ]
  },
  {
   "cell_type": "code",
   "execution_count": 33,
   "id": "8f4301de-1cc2-4fbf-99a4-6a48bc492bc3",
   "metadata": {},
   "outputs": [
    {
     "name": "stdout",
     "output_type": "stream",
     "text": [
      "True\n"
     ]
    }
   ],
   "source": [
    "# Check if a string is alphanumeric.\n",
    "\n",
    "string = \"hello123\"\n",
    "is_alphanumeric = string.isalnum()\n",
    "print(is_alphanumeric)"
   ]
  },
  {
   "cell_type": "code",
   "execution_count": 34,
   "id": "48545cca-ac1e-46a7-aad8-f12764a937c9",
   "metadata": {},
   "outputs": [
    {
     "name": "stdout",
     "output_type": "stream",
     "text": [
      "123456\n"
     ]
    }
   ],
   "source": [
    "# Extract all digits from a string.\n",
    "\n",
    "import re\n",
    "string = \"hello123world456\"\n",
    "digits = \"\".join(re.findall(r'\\d', string))\n",
    "print(digits)"
   ]
  },
  {
   "cell_type": "code",
   "execution_count": 36,
   "id": "3464dcb8-17f7-4980-b160-2dd4bd01cf38",
   "metadata": {},
   "outputs": [
    {
     "name": "stdout",
     "output_type": "stream",
     "text": [
      "helloworld\n"
     ]
    }
   ],
   "source": [
    "#Extract all alphabets from a string.\n",
    "\n",
    "import re\n",
    "string = \"hello123world456\"\n",
    "alphabets = \"\".join(re.findall(r'[a-zA-Z]', string))\n",
    "print(alphabets)"
   ]
  },
  {
   "cell_type": "code",
   "execution_count": 37,
   "id": "e9e06ec4-9540-4a5b-a922-ba403f5de58a",
   "metadata": {},
   "outputs": [
    {
     "name": "stdout",
     "output_type": "stream",
     "text": [
      "2\n"
     ]
    }
   ],
   "source": [
    "# Count the number of uppercase letters in a string.\n",
    "\n",
    "string = \"Hello World\"\n",
    "uppercase_count = sum(1 for char in string if char.isupper())\n",
    "print(uppercase_count)"
   ]
  },
  {
   "cell_type": "code",
   "execution_count": 38,
   "id": "86f4e54d-602b-4de3-a08e-4e91e9ea3e9f",
   "metadata": {},
   "outputs": [
    {
     "name": "stdout",
     "output_type": "stream",
     "text": [
      "8\n"
     ]
    }
   ],
   "source": [
    "# Count the number of lowercase letters in a string.\n",
    "\n",
    "string = \"Hello World\"\n",
    "lowercase_count = sum(1 for char in string if char.islower())\n",
    "print(lowercase_count)"
   ]
  },
  {
   "cell_type": "code",
   "execution_count": 40,
   "id": "651afb70-bbe8-4418-a33b-afefd5d20228",
   "metadata": {},
   "outputs": [
    {
     "name": "stdout",
     "output_type": "stream",
     "text": [
      "hELLO wORLD\n"
     ]
    }
   ],
   "source": [
    "#Swap the case of each character in a string.\n",
    "string = \"Hello World\"\n",
    "swapped_string = string.swapcase()\n",
    "print(swapped_string)"
   ]
  },
  {
   "cell_type": "code",
   "execution_count": 41,
   "id": "e5c51c11-606b-4ece-a31b-55cced86629d",
   "metadata": {},
   "outputs": [
    {
     "name": "stdout",
     "output_type": "stream",
     "text": [
      "hello , welcome to the \n"
     ]
    }
   ],
   "source": [
    "# Remove a specific word from a string.\n",
    "\n",
    "string = \"hello world, welcome to the world\"\n",
    "word_to_remove = \"world\"\n",
    "updated_string = string.replace(word_to_remove, \"\")\n",
    "print(updated_string)"
   ]
  },
  {
   "cell_type": "code",
   "execution_count": 42,
   "id": "fd2949e7-0790-484a-8c9a-c258ff1529e2",
   "metadata": {},
   "outputs": [
    {
     "name": "stdout",
     "output_type": "stream",
     "text": [
      "True\n"
     ]
    }
   ],
   "source": [
    "# Check if a string is a valid email address.\n",
    "\n",
    "import re\n",
    "email = \"example@email.com\"\n",
    "is_valid_email = bool(re.match(r'^[\\w\\.-]+@[\\w\\.-]+\\.\\w+$', email))\n",
    "print(is_valid_email)"
   ]
  },
  {
   "cell_type": "code",
   "execution_count": 1,
   "id": "676ac864-a9b7-453a-b339-630434d9c93b",
   "metadata": {},
   "outputs": [
    {
     "name": "stdout",
     "output_type": "stream",
     "text": [
      "example\n"
     ]
    }
   ],
   "source": [
    "# Extract the username from an email address string.\n",
    "\n",
    "import re\n",
    "email = \"example@email.com\"\n",
    "username = re.match(r'(^[\\w\\.-]+)@[\\w\\.-]+\\.\\w+$', email).group(1)\n",
    "print(username)"
   ]
  },
  {
   "cell_type": "code",
   "execution_count": 2,
   "id": "76cc522d-9026-48ef-a87d-e2ec2c52a32b",
   "metadata": {},
   "outputs": [
    {
     "name": "stdout",
     "output_type": "stream",
     "text": [
      "email.com\n"
     ]
    }
   ],
   "source": [
    "# Extract the domain name from an email address string.\n",
    "\n",
    "import re\n",
    "email = \"example@email.com\"\n",
    "domain = re.match(r'^[\\w\\.-]+@([\\w\\.-]+\\.\\w+)$', email).group(1)\n",
    "print(domain)"
   ]
  },
  {
   "cell_type": "code",
   "execution_count": 4,
   "id": "ed246227-d2d0-450d-9215-389a1b56d572",
   "metadata": {},
   "outputs": [
    {
     "name": "stdout",
     "output_type": "stream",
     "text": [
      "hello world\n"
     ]
    }
   ],
   "source": [
    "# Replace multiple spaces in a string with a single space.\n",
    "\n",
    "string = \"hello     world\"\n",
    "updated_string = \" \".join(string.split())\n",
    "print(updated_string)"
   ]
  },
  {
   "cell_type": "code",
   "execution_count": 7,
   "id": "5373182e-5d26-4607-bf08-519a6617d1bf",
   "metadata": {},
   "outputs": [
    {
     "name": "stdout",
     "output_type": "stream",
     "text": [
      "True\n"
     ]
    }
   ],
   "source": [
    "# Check if a string is a valid URL.\n",
    "\n",
    "import re\n",
    "url = \"https://www.example.com\"\n",
    "is_valid_url = bool(re.match(r'^(https?|ftp|file)://[-A-Za-z0-9+&@#/%?=~_|!:,.;]*[-A-Za-z0-9+&@#/%=~_|]', url))\n",
    "print(is_valid_url)"
   ]
  },
  {
   "cell_type": "code",
   "execution_count": 8,
   "id": "4a3a7888-a4b3-4d92-a13c-7b630633737b",
   "metadata": {},
   "outputs": [
    {
     "name": "stdout",
     "output_type": "stream",
     "text": [
      "https\n"
     ]
    }
   ],
   "source": [
    "# Extract the protocol (http or https) from a URL string.\n",
    "\n",
    "import re\n",
    "url = \"https://www.example.com\"\n",
    "protocol = re.match(r'^(https?)://', url).group(1)\n",
    "print(protocol)"
   ]
  },
  {
   "cell_type": "code",
   "execution_count": 9,
   "id": "215d4908-564e-423e-ba52-507b59c0567c",
   "metadata": {},
   "outputs": [
    {
     "name": "stdout",
     "output_type": "stream",
     "text": [
      "{'h': 1, ' ': 1, 'd': 1, 'l': 3, 'w': 1, 'e': 1, 'o': 2, 'r': 1}\n"
     ]
    }
   ],
   "source": [
    "# Find the frequency of each character in a string.\n",
    "\n",
    "string = \"hello world\"\n",
    "char_frequency = {char: string.count(char) for char in set(string)}\n",
    "print(char_frequency)"
   ]
  },
  {
   "cell_type": "code",
   "execution_count": 10,
   "id": "5e4eef72-d970-437d-b995-ca5456ee06b8",
   "metadata": {},
   "outputs": [
    {
     "name": "stdout",
     "output_type": "stream",
     "text": [
      "Hello World\n"
     ]
    }
   ],
   "source": [
    "# Remove all punctuation from a string.\n",
    "\n",
    "import string\n",
    "string_with_punctuation = \"Hello, World!\"\n",
    "no_punctuation_string = string_with_punctuation.translate(str.maketrans('', '', string.punctuation))\n",
    "print(no_punctuation_string)"
   ]
  },
  {
   "cell_type": "code",
   "execution_count": 11,
   "id": "51be5c5b-6104-4c5c-911b-8707abb1bd12",
   "metadata": {},
   "outputs": [
    {
     "name": "stdout",
     "output_type": "stream",
     "text": [
      "True\n"
     ]
    }
   ],
   "source": [
    "# Check if a string contains only digits.\n",
    "\n",
    "string = \"12345\"\n",
    "contains_only_digits = string.isdigit()\n",
    "print(contains_only_digits)"
   ]
  },
  {
   "cell_type": "code",
   "execution_count": 12,
   "id": "72da3194-76ad-4ef3-a133-480b5043d70d",
   "metadata": {},
   "outputs": [
    {
     "name": "stdout",
     "output_type": "stream",
     "text": [
      "True\n"
     ]
    }
   ],
   "source": [
    "# Check if a string contains only alphabets.\n",
    "\n",
    "string = \"abcdef\"\n",
    "contains_only_alphabets = string.isalpha()\n",
    "print(contains_only_alphabets)"
   ]
  },
  {
   "cell_type": "code",
   "execution_count": 13,
   "id": "47eef8d7-15b2-4f1c-aa4f-2664bfa4ece0",
   "metadata": {},
   "outputs": [
    {
     "name": "stdout",
     "output_type": "stream",
     "text": [
      "['h', 'e', 'l', 'l', 'o']\n"
     ]
    }
   ],
   "source": [
    "# Convert a string to a list of characters.\n",
    "\n",
    "string = \"hello\"\n",
    "char_list = list(string)\n",
    "print(char_list)"
   ]
  },
  {
   "cell_type": "code",
   "execution_count": 14,
   "id": "61794720-e0a4-450e-bd99-a54dc429b2bd",
   "metadata": {},
   "outputs": [
    {
     "name": "stdout",
     "output_type": "stream",
     "text": [
      "True\n"
     ]
    }
   ],
   "source": [
    "# Check if two strings are anagrams.\n",
    "\n",
    "string1 = \"listen\"\n",
    "string2 = \"silent\"\n",
    "are_anagrams = sorted(string1) == sorted(string2)\n",
    "print(are_anagrams)"
   ]
  },
  {
   "cell_type": "code",
   "execution_count": 15,
   "id": "531f1e6f-3f88-4ab8-9971-2aac52062e22",
   "metadata": {},
   "outputs": [
    {
     "name": "stdout",
     "output_type": "stream",
     "text": [
      "khoor\n"
     ]
    }
   ],
   "source": [
    "# Encode a string using a Caesar cipher.\n",
    "\n",
    "def caesar_cipher(string, shift):\n",
    "    result = \"\"\n",
    "    for char in string:\n",
    "        if char.isalpha():\n",
    "            shift_amount = (ord(char) - ord('a') + shift) % 26\n",
    "            result += chr(ord('a') + shift_amount)\n",
    "        else:\n",
    "            result += char\n",
    "    return result\n",
    "\n",
    "encoded_string = caesar_cipher(\"hello\", 3)\n",
    "print(encoded_string)"
   ]
  },
  {
   "cell_type": "code",
   "execution_count": 16,
   "id": "e516ff91-5e34-4d0e-9759-b2a2aea442cd",
   "metadata": {},
   "outputs": [
    {
     "name": "stdout",
     "output_type": "stream",
     "text": [
      "hello\n"
     ]
    }
   ],
   "source": [
    "# Decode a Caesar cipher encoded string.\n",
    "\n",
    "def caesar_decipher(string, shift):\n",
    "    return caesar_cipher(string, -shift)\n",
    "\n",
    "decoded_string = caesar_decipher(\"khoor\", 3)\n",
    "print(decoded_string)"
   ]
  },
  {
   "cell_type": "code",
   "execution_count": 17,
   "id": "64e7a3d5-d7c2-498c-b8ac-f694f6e9fc11",
   "metadata": {},
   "outputs": [
    {
     "name": "stdout",
     "output_type": "stream",
     "text": [
      "world\n"
     ]
    }
   ],
   "source": [
    "# Find the most frequent word in a string.\n",
    "\n",
    "import collections\n",
    "string = \"hello world, world is beautiful world\"\n",
    "word_list = string.split()\n",
    "most_common_word = collections.Counter(word_list).most_common(1)[0][0]\n",
    "print(most_common_word)"
   ]
  },
  {
   "cell_type": "code",
   "execution_count": 18,
   "id": "c47eaf59-9f00-433e-85bd-afa6d4d20993",
   "metadata": {},
   "outputs": [
    {
     "name": "stdout",
     "output_type": "stream",
     "text": [
      "{'world,', 'beautiful', 'world', 'is', 'hello'}\n"
     ]
    }
   ],
   "source": [
    "# Find all unique words in a string.\n",
    "\n",
    "string = \"hello world, world is beautiful world\"\n",
    "unique_words = set(string.split())\n",
    "print(unique_words)"
   ]
  },
  {
   "cell_type": "code",
   "execution_count": 19,
   "id": "2bf0c95c-a625-4e85-92ef-23b338d7ecbc",
   "metadata": {},
   "outputs": [
    {
     "name": "stdout",
     "output_type": "stream",
     "text": [
      "7\n"
     ]
    }
   ],
   "source": [
    "# Count the number of syllables in a string.\n",
    "\n",
    "import re\n",
    "string = \"syllable count in a string\"\n",
    "syllable_count = len(re.findall(r'[aeiouyAEIOUY]+', string))\n",
    "print(syllable_count)"
   ]
  },
  {
   "cell_type": "code",
   "execution_count": 20,
   "id": "f047d368-0070-4e41-b643-30a86180a4dc",
   "metadata": {},
   "outputs": [
    {
     "name": "stdout",
     "output_type": "stream",
     "text": [
      "True\n"
     ]
    }
   ],
   "source": [
    "# Check if a string contains any special characters.\n",
    "\n",
    "import re\n",
    "string = \"Hello @ World\"\n",
    "contains_special_characters = bool(re.search(r'[!@#$%^&*(),.?\":{}|<>]', string))\n",
    "print(contains_special_characters)"
   ]
  },
  {
   "cell_type": "code",
   "execution_count": 21,
   "id": "06212f28-6ede-4f18-9946-e37726c6f2d0",
   "metadata": {},
   "outputs": [
    {
     "name": "stdout",
     "output_type": "stream",
     "text": [
      "hello welcome to the world\n"
     ]
    }
   ],
   "source": [
    "# Remove the nth word from a string.\n",
    "\n",
    "string = \"hello world, welcome to the world\"\n",
    "n = 2\n",
    "words = string.split()\n",
    "if n < len(words):\n",
    "    del words[n - 1]\n",
    "updated_string = \" \".join(words)\n",
    "print(updated_string)"
   ]
  },
  {
   "cell_type": "code",
   "execution_count": 22,
   "id": "ee32dd32-b6f3-4b4a-9705-22e1d261f606",
   "metadata": {},
   "outputs": [
    {
     "name": "stdout",
     "output_type": "stream",
     "text": [
      "hello world, beautiful welcome to the world\n"
     ]
    }
   ],
   "source": [
    "# Insert a word at the nth position in a string.\n",
    "\n",
    "string = \"hello world, welcome to the world\"\n",
    "n = 3\n",
    "word_to_insert = \"beautiful\"\n",
    "words = string.split()\n",
    "if n <= len(words):\n",
    "    words.insert(n - 1, word_to_insert)\n",
    "updated_string = \" \".join(words)\n",
    "print(updated_string)"
   ]
  },
  {
   "cell_type": "code",
   "execution_count": 23,
   "id": "bc4d0702-c469-4148-a411-f8ca021c1d7e",
   "metadata": {},
   "outputs": [
    {
     "name": "stdout",
     "output_type": "stream",
     "text": [
      "[['1', 'John', 'Smith'], ['2', 'Jane', 'Doe'], ['3', 'Michael', 'Johnson']]\n"
     ]
    }
   ],
   "source": [
    "# Convert a CSV string to a list of lists.\n",
    "\n",
    "csv_string = \"1,John,Smith\\n2,Jane,Doe\\n3,Michael,Johnson\"\n",
    "csv_data = [line.split(',') for line in csv_string.split('\\n') if line]\n",
    "print(csv_data)"
   ]
  },
  {
   "cell_type": "markdown",
   "id": "f103d38c-bfe8-4647-80f3-ed94d7bc744a",
   "metadata": {},
   "source": [
    "List-Based Practice Problems:"
   ]
  },
  {
   "cell_type": "code",
   "execution_count": 25,
   "id": "e01f64f5-0883-4160-9a77-3282fc7d2514",
   "metadata": {},
   "outputs": [
    {
     "name": "stdout",
     "output_type": "stream",
     "text": [
      "[1, 2, 3, 4, 5, 6, 7, 8, 9, 10]\n"
     ]
    }
   ],
   "source": [
    "# Create a list with integers from 1 to 10.\n",
    "\n",
    "my_list = list(range(1, 11))\n",
    "print(my_list)"
   ]
  },
  {
   "cell_type": "code",
   "execution_count": 26,
   "id": "aff954f4-f494-4f85-aeab-b60a97a1f6ff",
   "metadata": {},
   "outputs": [
    {
     "name": "stdout",
     "output_type": "stream",
     "text": [
      "5\n"
     ]
    }
   ],
   "source": [
    "# Find the length of a list without using the len() function.\n",
    "\n",
    "my_list = [1, 2, 3, 4, 5]\n",
    "length = sum(1 for _ in my_list)\n",
    "print(length)"
   ]
  },
  {
   "cell_type": "code",
   "execution_count": 27,
   "id": "3b3288b6-0d9c-4c7c-8ef1-2eb85c649bad",
   "metadata": {},
   "outputs": [
    {
     "name": "stdout",
     "output_type": "stream",
     "text": [
      "[1, 2, 3, 4]\n"
     ]
    }
   ],
   "source": [
    "# Append an element to the end of a list.\n",
    "\n",
    "my_list = [1, 2, 3]\n",
    "my_list.append(4)\n",
    "print(my_list)"
   ]
  },
  {
   "cell_type": "code",
   "execution_count": 28,
   "id": "f154b7a9-4867-4963-897b-37d50d949b69",
   "metadata": {},
   "outputs": [
    {
     "name": "stdout",
     "output_type": "stream",
     "text": [
      "[1, 4, 2, 3]\n"
     ]
    }
   ],
   "source": [
    "# Insert an element at a specific index in a list.\n",
    "\n",
    "my_list = [1, 2, 3]\n",
    "my_list.insert(1, 4)\n",
    "print(my_list)"
   ]
  },
  {
   "cell_type": "code",
   "execution_count": 29,
   "id": "c08febf4-7606-4665-9394-cef009d68106",
   "metadata": {},
   "outputs": [
    {
     "name": "stdout",
     "output_type": "stream",
     "text": [
      "[1, 2, 4, 5]\n"
     ]
    }
   ],
   "source": [
    "# Remove an element from a list by its value.\n",
    "\n",
    "my_list = [1, 2, 3, 4, 5]\n",
    "my_list.remove(3)\n",
    "print(my_list)"
   ]
  },
  {
   "cell_type": "code",
   "execution_count": 30,
   "id": "cedc6320-dfee-46c2-895a-514c730cefd2",
   "metadata": {},
   "outputs": [
    {
     "name": "stdout",
     "output_type": "stream",
     "text": [
      "[1, 2, 4, 5]\n"
     ]
    }
   ],
   "source": [
    "# Remove an element from a list by its index.\n",
    "\n",
    "my_list = [1, 2, 3, 4, 5]\n",
    "del my_list[2]\n",
    "print(my_list)"
   ]
  },
  {
   "cell_type": "code",
   "execution_count": 31,
   "id": "b66a91f1-5395-40ab-89b6-ca7d57aff9df",
   "metadata": {},
   "outputs": [
    {
     "name": "stdout",
     "output_type": "stream",
     "text": [
      "True\n"
     ]
    }
   ],
   "source": [
    "# Check if an element exists in a list.\n",
    "\n",
    "my_list = [1, 2, 3, 4, 5]\n",
    "element_to_check = 3\n",
    "exists = element_to_check in my_list\n",
    "print(exists)"
   ]
  },
  {
   "cell_type": "code",
   "execution_count": 32,
   "id": "8177a709-d41a-4df9-b1f0-bee3608002e5",
   "metadata": {},
   "outputs": [
    {
     "name": "stdout",
     "output_type": "stream",
     "text": [
      "2\n"
     ]
    }
   ],
   "source": [
    "# Find the index of the first occurrence of an element in a list.\n",
    "\n",
    "my_list = [1, 2, 3, 4, 5]\n",
    "element_to_find = 3\n",
    "index = my_list.index(element_to_find)\n",
    "print(index)"
   ]
  },
  {
   "cell_type": "code",
   "execution_count": 34,
   "id": "bd819042-5754-4fc6-8280-dab6472867af",
   "metadata": {},
   "outputs": [
    {
     "name": "stdout",
     "output_type": "stream",
     "text": [
      "3\n"
     ]
    }
   ],
   "source": [
    "# Count the occurrences of an element in a list.\n",
    "\n",
    "my_list = [1, 2, 2, 3, 2, 4]\n",
    "element_to_count = 2\n",
    "count = my_list.count(element_to_count)\n",
    "print(count)"
   ]
  },
  {
   "cell_type": "code",
   "execution_count": 35,
   "id": "733f8cf2-d81c-4842-a271-c2547e7dc715",
   "metadata": {},
   "outputs": [
    {
     "name": "stdout",
     "output_type": "stream",
     "text": [
      "[5, 4, 3, 2, 1]\n"
     ]
    }
   ],
   "source": [
    "# Reverse the order of elements in a list.\n",
    "\n",
    "my_list = [1, 2, 3, 4, 5]\n",
    "my_list.reverse()\n",
    "print(my_list)"
   ]
  },
  {
   "cell_type": "code",
   "execution_count": 36,
   "id": "2a004d67-4a0c-4a8f-9693-73a5159a1873",
   "metadata": {},
   "outputs": [
    {
     "name": "stdout",
     "output_type": "stream",
     "text": [
      "[1, 2, 3, 4, 5]\n"
     ]
    }
   ],
   "source": [
    "# Sort a list in ascending order.\n",
    "\n",
    "my_list = [3, 1, 4, 2, 5]\n",
    "my_list.sort()\n",
    "print(my_list)"
   ]
  },
  {
   "cell_type": "code",
   "execution_count": 37,
   "id": "2a6ef1a6-9dc3-42ad-a1d3-3de1330a34de",
   "metadata": {},
   "outputs": [
    {
     "name": "stdout",
     "output_type": "stream",
     "text": [
      "[5, 4, 3, 2, 1]\n"
     ]
    }
   ],
   "source": [
    "# Sort a list in descending order.\n",
    "\n",
    "my_list = [3, 1, 4, 2, 5]\n",
    "my_list.sort(reverse=True)\n",
    "print(my_list)"
   ]
  },
  {
   "cell_type": "code",
   "execution_count": 38,
   "id": "4156fdac-7530-4b7a-9056-e6d63a145807",
   "metadata": {},
   "outputs": [
    {
     "name": "stdout",
     "output_type": "stream",
     "text": [
      "[2, 4, 6, 8, 10, 12, 14, 16, 18, 20]\n"
     ]
    }
   ],
   "source": [
    "# Create a list of even numbers from 1 to 20.\n",
    "\n",
    "even_numbers = list(range(2, 21, 2))\n",
    "print(even_numbers)"
   ]
  },
  {
   "cell_type": "code",
   "execution_count": 39,
   "id": "22addf27-50e8-4cf9-8b6e-0879fa1553cc",
   "metadata": {},
   "outputs": [
    {
     "name": "stdout",
     "output_type": "stream",
     "text": [
      "[1, 3, 5, 7, 9, 11, 13, 15, 17, 19]\n"
     ]
    }
   ],
   "source": [
    "# Create a list of odd numbers from 1 to 20.\n",
    "\n",
    "odd_numbers = list(range(1, 21, 2))\n",
    "print(odd_numbers)"
   ]
  },
  {
   "cell_type": "code",
   "execution_count": 40,
   "id": "b8adea55-cc67-40c0-bd54-3f24deb5abea",
   "metadata": {},
   "outputs": [
    {
     "name": "stdout",
     "output_type": "stream",
     "text": [
      "15\n"
     ]
    }
   ],
   "source": [
    "# Find the sum of all elements in a list.\n",
    "\n",
    "my_list = [1, 2, 3, 4, 5]\n",
    "total = sum(my_list)\n",
    "print(total)"
   ]
  },
  {
   "cell_type": "code",
   "execution_count": 41,
   "id": "7c99019a-b4f0-4d8d-b5d7-7ce0034359c0",
   "metadata": {},
   "outputs": [
    {
     "name": "stdout",
     "output_type": "stream",
     "text": [
      "5\n"
     ]
    }
   ],
   "source": [
    "# Find the maximum value in a list.\n",
    "\n",
    "my_list = [3, 1, 4, 2, 5]\n",
    "max_value = max(my_list)\n",
    "print(max_value)"
   ]
  },
  {
   "cell_type": "code",
   "execution_count": 42,
   "id": "0ba20b34-f608-4dc3-8e92-f2acbd506079",
   "metadata": {},
   "outputs": [
    {
     "name": "stdout",
     "output_type": "stream",
     "text": [
      "1\n"
     ]
    }
   ],
   "source": [
    "# Find the minimum value in a list.\n",
    "\n",
    "my_list = [3, 1, 4, 2, 5]\n",
    "min_value = min(my_list)\n",
    "print(min_value)"
   ]
  },
  {
   "cell_type": "code",
   "execution_count": 43,
   "id": "3d891cf1-0b5c-4b52-b8e1-f373f3822138",
   "metadata": {},
   "outputs": [
    {
     "name": "stdout",
     "output_type": "stream",
     "text": [
      "[1, 4, 9, 16, 25, 36, 49, 64, 81, 100]\n"
     ]
    }
   ],
   "source": [
    "# Create a list of squares of numbers from 1 to 10.\n",
    "\n",
    "squares = [x**2 for x in range(1, 11)]\n",
    "print(squares)"
   ]
  },
  {
   "cell_type": "code",
   "execution_count": 44,
   "id": "e6a8098a-0f61-47ee-8c47-4622a429e764",
   "metadata": {},
   "outputs": [
    {
     "name": "stdout",
     "output_type": "stream",
     "text": [
      "[34, 64, 78, 92, 56, 4, 65, 76, 62, 45]\n"
     ]
    }
   ],
   "source": [
    "# Create a list of random numbers.\n",
    "\n",
    "import random\n",
    "random_numbers = [random.randint(1, 100) for _ in range(10)]\n",
    "print(random_numbers)"
   ]
  },
  {
   "cell_type": "code",
   "execution_count": 45,
   "id": "89ddd7aa-8bc0-41ac-91ad-e94873410264",
   "metadata": {},
   "outputs": [
    {
     "name": "stdout",
     "output_type": "stream",
     "text": [
      "[1, 2, 3, 4, 5]\n"
     ]
    }
   ],
   "source": [
    "# Remove duplicates from a list.\n",
    "\n",
    "my_list = [1, 2, 2, 3, 4, 4, 5]\n",
    "unique_list = list(set(my_list))\n",
    "print(unique_list)"
   ]
  },
  {
   "cell_type": "code",
   "execution_count": 47,
   "id": "0d3456be-10f1-4fb3-8929-107400d661d6",
   "metadata": {},
   "outputs": [
    {
     "name": "stdout",
     "output_type": "stream",
     "text": [
      "[3, 4, 5]\n"
     ]
    }
   ],
   "source": [
    "# Find the common elements between two lists.\n",
    "\n",
    "list1 = [1, 2, 3, 4, 5]\n",
    "list2 = [3, 4, 5, 6, 7]\n",
    "common_elements = list(set(list1) & set(list2))\n",
    "print(common_elements)"
   ]
  },
  {
   "cell_type": "code",
   "execution_count": 48,
   "id": "eb04e90a-74d9-4cdd-b9c2-2b9a4bafac6d",
   "metadata": {},
   "outputs": [
    {
     "name": "stdout",
     "output_type": "stream",
     "text": [
      "[1, 2]\n"
     ]
    }
   ],
   "source": [
    "# Find the difference between two lists.\n",
    "\n",
    "list1 = [1, 2, 3, 4, 5]\n",
    "list2 = [3, 4, 5, 6, 7]\n",
    "difference = list(set(list1) - set(list2))\n",
    "print(difference)"
   ]
  },
  {
   "cell_type": "code",
   "execution_count": 49,
   "id": "4a98837b-c004-465b-8890-a9bbebd10a1d",
   "metadata": {},
   "outputs": [
    {
     "name": "stdout",
     "output_type": "stream",
     "text": [
      "[1, 2, 3, 4, 5, 6]\n"
     ]
    }
   ],
   "source": [
    "# Merge two lists.\n",
    "\n",
    "list1 = [1, 2, 3]\n",
    "list2 = [4, 5, 6]\n",
    "merged_list = list1 + list2\n",
    "print(merged_list)"
   ]
  },
  {
   "cell_type": "code",
   "execution_count": 50,
   "id": "dc93ef75-6175-49b5-98c6-db0671b01192",
   "metadata": {},
   "outputs": [
    {
     "name": "stdout",
     "output_type": "stream",
     "text": [
      "[2, 4, 6, 8, 10]\n"
     ]
    }
   ],
   "source": [
    "# Multiply all elements in a list by 2.\n",
    "\n",
    "my_list = [1, 2, 3, 4, 5]\n",
    "doubled_list = [x * 2 for x in my_list]\n",
    "print(doubled_list)"
   ]
  },
  {
   "cell_type": "code",
   "execution_count": 51,
   "id": "88c2c60d-2e5a-41b5-85f9-962791f6fb2b",
   "metadata": {},
   "outputs": [
    {
     "name": "stdout",
     "output_type": "stream",
     "text": [
      "[1, 3, 5]\n"
     ]
    }
   ],
   "source": [
    "# Filter out all even numbers from a list.\n",
    "\n",
    "my_list = [1, 2, 3, 4, 5]\n",
    "filtered_list = [x for x in my_list if x % 2 != 0]\n",
    "print(filtered_list)"
   ]
  },
  {
   "cell_type": "code",
   "execution_count": 52,
   "id": "221a8d69-7849-45df-b38c-c390c9f81df9",
   "metadata": {},
   "outputs": [
    {
     "name": "stdout",
     "output_type": "stream",
     "text": [
      "[1, 2, 3, 4, 5]\n"
     ]
    }
   ],
   "source": [
    "# Convert a list of strings to a list of integers.\n",
    "\n",
    "string_list = [\"1\", \"2\", \"3\", \"4\", \"5\"]\n",
    "int_list = [int(x) for x in string_list]\n",
    "print(int_list)"
   ]
  },
  {
   "cell_type": "code",
   "execution_count": 53,
   "id": "a0c25246-7ab3-4325-ab2b-d50fd720f9ad",
   "metadata": {},
   "outputs": [
    {
     "name": "stdout",
     "output_type": "stream",
     "text": [
      "['1', '2', '3', '4', '5']\n"
     ]
    }
   ],
   "source": [
    "# Convert a list of integers to a list of strings.\n",
    "\n",
    "int_list = [1, 2, 3, 4, 5]\n",
    "string_list = [str(x) for x in int_list]\n",
    "print(string_list)"
   ]
  },
  {
   "cell_type": "code",
   "execution_count": 54,
   "id": "5e89d487-3ad8-49d7-bcc4-1ff35afcf7ac",
   "metadata": {},
   "outputs": [
    {
     "name": "stdout",
     "output_type": "stream",
     "text": [
      "[1, 2, 3, 4, 5, 6]\n"
     ]
    }
   ],
   "source": [
    "# Flatten a nested list.\n",
    "\n",
    "nested_list = [[1, 2], [3, 4], [5, 6]]\n",
    "flattened_list = [item for sublist in nested_list for item in sublist]\n",
    "print(flattened_list)"
   ]
  },
  {
   "cell_type": "code",
   "execution_count": 55,
   "id": "a61e0c8e-b230-4a1e-a3ed-b56079058886",
   "metadata": {},
   "outputs": [
    {
     "name": "stdout",
     "output_type": "stream",
     "text": [
      "[0, 1, 1, 2, 3, 5, 8, 13, 21, 34]\n"
     ]
    }
   ],
   "source": [
    "# Create a list of the first 10 Fibonacci numbers.\n",
    "\n",
    "fibonacci_list = [0, 1]\n",
    "while len(fibonacci_list) < 10:\n",
    "    next_fib = fibonacci_list[-1] + fibonacci_list[-2]\n",
    "    fibonacci_list.append(next_fib)\n",
    "print(fibonacci_list)"
   ]
  },
  {
   "cell_type": "code",
   "execution_count": 56,
   "id": "024364be-2d0e-4d80-a903-ad4dd1537fc6",
   "metadata": {},
   "outputs": [
    {
     "name": "stdout",
     "output_type": "stream",
     "text": [
      "True\n"
     ]
    }
   ],
   "source": [
    "# heck if a list is sorted.\n",
    "\n",
    "my_list = [1, 2, 3, 4, 5]\n",
    "is_sorted = all(my_list[i] <= my_list[i + 1] for i in range(len(my_list) - 1))\n",
    "print(is_sorted)"
   ]
  },
  {
   "cell_type": "code",
   "execution_count": 57,
   "id": "1d191733-ce9b-42dd-a877-228de730cedc",
   "metadata": {},
   "outputs": [
    {
     "name": "stdout",
     "output_type": "stream",
     "text": [
      "[3, 4, 5, 1, 2]\n"
     ]
    }
   ],
   "source": [
    "# Rotate a list to the left by n positions.\n",
    "\n",
    "my_list = [1, 2, 3, 4, 5]\n",
    "n = 2\n",
    "rotated_list = my_list[n:] + my_list[:n]\n",
    "print(rotated_list)"
   ]
  },
  {
   "cell_type": "code",
   "execution_count": 58,
   "id": "a8406770-48e1-4734-b957-24c1e15aa863",
   "metadata": {},
   "outputs": [
    {
     "name": "stdout",
     "output_type": "stream",
     "text": [
      "[4, 5, 1, 2, 3]\n"
     ]
    }
   ],
   "source": [
    "# Rotate a list to the right by n positions.\n",
    "\n",
    "my_list = [1, 2, 3, 4, 5]\n",
    "n = 2\n",
    "rotated_list = my_list[-n:] + my_list[:-n]\n",
    "print(rotated_list)"
   ]
  },
  {
   "cell_type": "code",
   "execution_count": 59,
   "id": "190c30f9-5428-49c1-9bdc-2f673b966f0e",
   "metadata": {},
   "outputs": [
    {
     "name": "stdout",
     "output_type": "stream",
     "text": [
      "[2, 3, 5, 7, 11, 13, 17, 19, 23, 29, 31, 37, 41, 43, 47]\n"
     ]
    }
   ],
   "source": [
    "# Create a list of prime numbers up to 50.\n",
    "\n",
    "def is_prime(num):\n",
    "    if num <= 1:\n",
    "        return False\n",
    "    if num <= 3:\n",
    "        return True\n",
    "    if num % 2 == 0 or num % 3 == 0:\n",
    "        return False\n",
    "    i = 5\n",
    "    while i * i <= num:\n",
    "        if num % i == 0 or num % (i + 2) == 0:\n",
    "            return False\n",
    "        i += 6\n",
    "    return True\n",
    "\n",
    "prime_list = [num for num in range(2, 51) if is_prime(num)]\n",
    "print(prime_list)"
   ]
  },
  {
   "cell_type": "code",
   "execution_count": 60,
   "id": "2da3fd05-0d42-4ec8-add1-c976744312db",
   "metadata": {},
   "outputs": [
    {
     "name": "stdout",
     "output_type": "stream",
     "text": [
      "[[1, 2, 3], [4, 5, 6], [7, 8, 9]]\n"
     ]
    }
   ],
   "source": [
    "# Split a list into chunks of size n.\n",
    "\n",
    "my_list = [1, 2, 3, 4, 5, 6, 7, 8, 9]\n",
    "n = 3\n",
    "chunks = [my_list[i:i + n] for i in range(0, len(my_list), n)]\n",
    "print(chunks)"
   ]
  },
  {
   "cell_type": "code",
   "execution_count": 61,
   "id": "c638e428-8006-4bf6-96af-b3bae41bcd02",
   "metadata": {},
   "outputs": [
    {
     "name": "stdout",
     "output_type": "stream",
     "text": [
      "4\n"
     ]
    }
   ],
   "source": [
    "# Find the second largest number in a list.\n",
    "\n",
    "my_list = [3, 1, 4, 2, 5]\n",
    "second_largest = sorted(set(my_list))[-2]\n",
    "print(second_largest)"
   ]
  },
  {
   "cell_type": "code",
   "execution_count": 62,
   "id": "2644548b-bf39-4a13-b668-72b5bcae23f3",
   "metadata": {},
   "outputs": [
    {
     "name": "stdout",
     "output_type": "stream",
     "text": [
      "[1, 4, 9, 16, 25]\n"
     ]
    }
   ],
   "source": [
    "# Replace every element in a list with its square.\n",
    "\n",
    "my_list = [1, 2, 3, 4, 5]\n",
    "squared_list = [x**2 for x in my_list]\n",
    "print(squared_list)"
   ]
  },
  {
   "cell_type": "code",
   "execution_count": 63,
   "id": "15b4dc13-d414-4b02-bf97-722440529c56",
   "metadata": {},
   "outputs": [
    {
     "name": "stdout",
     "output_type": "stream",
     "text": [
      "{'apple': 0, 'banana': 1, 'cherry': 2}\n"
     ]
    }
   ],
   "source": [
    "# Convert a list to a dictionary where list elements become keys and their indices become values.\n",
    "\n",
    "my_list = [\"apple\", \"banana\", \"cherry\"]\n",
    "dictionary = {element: index for index, element in enumerate(my_list)}\n",
    "print(dictionary)"
   ]
  },
  {
   "cell_type": "code",
   "execution_count": 64,
   "id": "2a001c9e-239d-4e25-be05-f8d168b74d0b",
   "metadata": {},
   "outputs": [
    {
     "name": "stdout",
     "output_type": "stream",
     "text": [
      "[4, 5, 3, 2, 1]\n"
     ]
    }
   ],
   "source": [
    "# Shuffle the elements of a list randomly.\n",
    "\n",
    "import random\n",
    "my_list = [1, 2, 3, 4, 5]\n",
    "random.shuffle(my_list)\n",
    "print(my_list)"
   ]
  },
  {
   "cell_type": "code",
   "execution_count": 65,
   "id": "c86d830a-6091-4c7f-af72-cc91ba9e2fe9",
   "metadata": {},
   "outputs": [
    {
     "name": "stdout",
     "output_type": "stream",
     "text": [
      "True\n"
     ]
    }
   ],
   "source": [
    "# Check if two lists have at least one element in common.\n",
    "\n",
    "list1 = [1, 2, 3, 4, 5]\n",
    "list2 = [4, 5, 6, 7, 8]\n",
    "have_common_element = any(item in list1 for item in list2)\n",
    "print(have_common_element)"
   ]
  },
  {
   "cell_type": "code",
   "execution_count": 66,
   "id": "e3737490-bcf9-4844-8c7d-8966a7148cd9",
   "metadata": {},
   "outputs": [
    {
     "name": "stdout",
     "output_type": "stream",
     "text": [
      "[]\n"
     ]
    }
   ],
   "source": [
    "# Remove all elements from a list.\n",
    "\n",
    "my_list = [1, 2, 3, 4, 5]\n",
    "my_list.clear()\n",
    "print(my_list)"
   ]
  },
  {
   "cell_type": "code",
   "execution_count": 67,
   "id": "ddde7a14-507a-4827-bef9-a3193f945167",
   "metadata": {},
   "outputs": [
    {
     "name": "stdout",
     "output_type": "stream",
     "text": [
      "[1, 0, 3, 0, 5]\n"
     ]
    }
   ],
   "source": [
    "# Replace negative numbers in a list with 0.\n",
    "\n",
    "my_list = [1, -2, 3, -4, 5]\n",
    "non_negative_list = [max(x, 0) for x in my_list]\n",
    "print(non_negative_list)"
   ]
  },
  {
   "cell_type": "code",
   "execution_count": 68,
   "id": "167d8e0e-0a7d-4629-b681-67119c2354bf",
   "metadata": {},
   "outputs": [
    {
     "name": "stdout",
     "output_type": "stream",
     "text": [
      "['Hello,', 'world!']\n"
     ]
    }
   ],
   "source": [
    "# Convert a string into a list of words.\n",
    "\n",
    "string = \"Hello, world!\"\n",
    "word_list = string.split()\n",
    "print(word_list)"
   ]
  },
  {
   "cell_type": "code",
   "execution_count": 70,
   "id": "be8be834-4611-490f-91bc-75442ca516b4",
   "metadata": {},
   "outputs": [
    {
     "name": "stdout",
     "output_type": "stream",
     "text": [
      "[1, 2, 4, 8, 16]\n"
     ]
    }
   ],
   "source": [
    "#Create a list of the first n powers of 2.\n",
    "\n",
    "n = 5\n",
    "powers_of_2 = [2**i for i in range(n)]\n",
    "print(powers_of_2)"
   ]
  },
  {
   "cell_type": "code",
   "execution_count": 71,
   "id": "364a27d4-8f05-4dd6-8b03-8c796e7cc629",
   "metadata": {},
   "outputs": [
    {
     "name": "stdout",
     "output_type": "stream",
     "text": [
      "banana\n"
     ]
    }
   ],
   "source": [
    "# Find the longest string in a list of strings.\n",
    "\n",
    "string_list = [\"apple\", \"banana\", \"cherry\"]\n",
    "longest_string = max(string_list, key=len)\n",
    "print(longest_string)"
   ]
  },
  {
   "cell_type": "code",
   "execution_count": 72,
   "id": "cf65594a-7cdb-41e8-9175-2b3ed1500128",
   "metadata": {},
   "outputs": [
    {
     "name": "stdout",
     "output_type": "stream",
     "text": [
      "apple\n"
     ]
    }
   ],
   "source": [
    "# Find the shortest string in a list of strings.\n",
    "\n",
    "string_list = [\"apple\", \"banana\", \"cherry\"]\n",
    "shortest_string = min(string_list, key=len)\n",
    "print(shortest_string)"
   ]
  },
  {
   "cell_type": "code",
   "execution_count": 73,
   "id": "b402128f-67d4-41d4-a1dd-9c34b7c461a9",
   "metadata": {},
   "outputs": [
    {
     "name": "stdout",
     "output_type": "stream",
     "text": [
      "[1, 3, 6, 10, 15]\n"
     ]
    }
   ],
   "source": [
    "# Create a list of the first n triangular numbers.\n",
    "\n",
    "def triangular_number(n):\n",
    "    return n * (n + 1) // 2\n",
    "\n",
    "n = 5\n",
    "triangular_numbers = [triangular_number(i) for i in range(1, n + 1)]\n",
    "print(triangular_numbers)"
   ]
  },
  {
   "cell_type": "code",
   "execution_count": 74,
   "id": "95deb6d0-ede4-4120-9227-569981e4c5d6",
   "metadata": {},
   "outputs": [
    {
     "name": "stdout",
     "output_type": "stream",
     "text": [
      "True\n"
     ]
    }
   ],
   "source": [
    "# Check if all elements in a list are unique.\n",
    "\n",
    "my_list = [1, 2, 3, 4, 5]\n",
    "are_unique = len(my_list) == len(set(my_list))\n",
    "print(are_unique)"
   ]
  },
  {
   "cell_type": "code",
   "execution_count": 75,
   "id": "ff42d581-c38b-4e0f-a75c-d1104897747e",
   "metadata": {},
   "outputs": [
    {
     "name": "stdout",
     "output_type": "stream",
     "text": [
      "3\n"
     ]
    }
   ],
   "source": [
    "# Find the mode (most frequent element) in a list.\n",
    "\n",
    "from collections import Counter\n",
    "my_list = [1, 2, 2, 3, 3, 3, 4, 4]\n",
    "mode = max(Counter(my_list), key=Counter(my_list).get)\n",
    "print(mode)"
   ]
  },
  {
   "cell_type": "code",
   "execution_count": 76,
   "id": "c82f8459-733a-4a85-84f9-e2dded537e0e",
   "metadata": {},
   "outputs": [
    {
     "name": "stdout",
     "output_type": "stream",
     "text": [
      "True\n"
     ]
    }
   ],
   "source": [
    "# Check if a set contains another set as a subset.\n",
    "\n",
    "# Given sets\n",
    "set1 = {1, 2, 3, 4, 5}\n",
    "set2 = {3, 4}\n",
    "\n",
    "# Check if set2 is a subset of set1\n",
    "is_subset = set2.issubset(set1)\n",
    "print(is_subset)"
   ]
  },
  {
   "cell_type": "code",
   "execution_count": 77,
   "id": "07f16014-287a-4032-860a-526104505b2c",
   "metadata": {},
   "outputs": [
    {
     "name": "stdout",
     "output_type": "stream",
     "text": [
      "{0, 1}\n"
     ]
    }
   ],
   "source": [
    "# Create a set of alternating 1s and 0s of length n.\n",
    "\n",
    "n = 5\n",
    "alternating_set = set(i % 2 for i in range(n))\n",
    "print(alternating_set)"
   ]
  },
  {
   "cell_type": "code",
   "execution_count": 78,
   "id": "8ed8d119-4498-4c1c-8f38-dd8ceba529b5",
   "metadata": {},
   "outputs": [
    {
     "name": "stdout",
     "output_type": "stream",
     "text": [
      "{1, 2, 3, 4, 5, 6, 7}\n"
     ]
    }
   ],
   "source": [
    "# Merge multiple sets into one.\n",
    "\n",
    "# Given sets\n",
    "set1 = {1, 2, 3}\n",
    "set2 = {3, 4, 5}\n",
    "set3 = {5, 6, 7}\n",
    "\n",
    "# Merge sets into one\n",
    "merged_set = set1.union(set2, set3)\n",
    "print(merged_set)"
   ]
  },
  {
   "cell_type": "code",
   "execution_count": null,
   "id": "6a401c35-fd2e-4cdb-8bf9-f75f9acabd5a",
   "metadata": {},
   "outputs": [],
   "source": []
  }
 ],
 "metadata": {
  "kernelspec": {
   "display_name": "Python 3 (ipykernel)",
   "language": "python",
   "name": "python3"
  },
  "language_info": {
   "codemirror_mode": {
    "name": "ipython",
    "version": 3
   },
   "file_extension": ".py",
   "mimetype": "text/x-python",
   "name": "python",
   "nbconvert_exporter": "python",
   "pygments_lexer": "ipython3",
   "version": "3.10.8"
  }
 },
 "nbformat": 4,
 "nbformat_minor": 5
}
